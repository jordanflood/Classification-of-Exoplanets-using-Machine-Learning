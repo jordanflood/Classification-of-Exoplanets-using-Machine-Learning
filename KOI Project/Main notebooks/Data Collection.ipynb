{
 "cells": [
  {
   "cell_type": "code",
   "execution_count": 4,
   "metadata": {},
   "outputs": [],
   "source": [
    "import requests\n",
    "import pandas as pd\n",
    "from io import StringIO"
   ]
  },
  {
   "cell_type": "code",
   "execution_count": 5,
   "metadata": {},
   "outputs": [
    {
     "name": "stdout",
     "output_type": "stream",
     "text": [
      "Data has been collected and saved to exoplanets_data.csv\n"
     ]
    }
   ],
   "source": [
    "# KOI Candidate Data - column info: https://exoplanetarchive.ipac.caltech.edu/docs/API_kepcandidate_columns.html\n",
    "# Set API url\n",
    "api_url = 'https://exoplanetarchive.ipac.caltech.edu/cgi-bin/nstedAPI/nph-nstedAPI?'\n",
    "\n",
    "# Columns to use, selected by inspection\n",
    "col_to_pull = ['kepoi_name', 'koi_disposition', 'koi_comment', 'koi_count', 'koi_fpflag_nt',\n",
    "               'koi_fpflag_ss', 'koi_fpflag_co', 'koi_fpflag_ec', 'ra', 'dec',\n",
    "               'koi_gmag', 'koi_rmag', 'koi_imag', 'koi_zmag', 'koi_jmag', 'koi_hmag',\n",
    "               'koi_kmag', 'koi_kepmag', 'koi_num_transits', 'koi_max_sngle_ev', 'koi_max_mult_ev',\n",
    "               'koi_bin_oedp_sig', 'koi_ldm_coeff4', 'koi_ldm_coeff3', 'koi_ldm_coeff2', 'koi_ldm_coeff1',\n",
    "               'koi_model_snr', 'koi_prad', 'koi_sma', 'koi_impact', 'koi_duration',\n",
    "               'koi_depth', 'koi_period', 'koi_ror', 'koi_dor', 'koi_incl', 'koi_teq', 'koi_steff',\n",
    "               'koi_slogg', 'koi_smet', 'koi_srad', 'koi_smass', 'koi_fwm_stat_sig', 'koi_fwm_sra',\n",
    "               'koi_fwm_sdec', 'koi_fwm_srao', 'koi_fwm_sdeco', 'koi_fwm_prao', 'koi_fwm_pdeco',\n",
    "               'koi_dicco_mra', 'koi_dicco_mdec', 'koi_dicco_msky', 'koi_insol', 'koi_srho']\n",
    "\n",
    "# Aliases to rename columns\n",
    "aliases = ['koi_name', 'disposition', 'false_positive_type', \n",
    "           'num_of_objects_around_star', 'fp_not_transit', 'fp_stellar_eclipse', 'fp_centroid_offset',\n",
    "           'fp_contamination', 'right_ascension', 'declination', 'g_band_mag', 'r_band_mag', 'i_band_mag',\n",
    "           'z_band_mag', 'j_band_mag', 'h_band_mag', 'k_band_mag', 'kepler_band_mag', 'num_of_transits',\n",
    "           'max_single_event_stat', 'max_multi_event_stat', 'odd_even_depth_stat', 'limb_dark_co4',\n",
    "           'limb_dark_co3', 'limb_dark_co2', 'limb_dark_co1', 'transit_signal_to_noise',\n",
    "           'planet_radius_earth', 'orbit_semimajor_axis', 'impact', 'transit_duration', 'transit_depth',\n",
    "           'orbital_period', 'planet_star_radius_ratio', 'planet_star_distance_radius', 'inclination',\n",
    "           'planet_temp', 'star_temp', 'star_surface_gravity', 'star_metallicity', 'star_radius',\n",
    "           'star_mass', 'flux_weight_offset_sig', 'centroid_right_ascension', 'centroid_declination',\n",
    "           'centroid_right_ascension_offset', 'centroid_declination_offset', 'planet_star_right_ascension_offset',\n",
    "           'planet_star_declination_offset', 'angular_offset_right_ascension', 'angular_offset_declination',\n",
    "           'angular_offset_sky', 'insolation_flux', 'star_density']\n",
    "\n",
    "# Format and send API request\n",
    "select_string = ', '.join(col_to_pull)\n",
    "params = {'select': '{}'.format(select_string), 'table': 'cumulative', 'format': 'csv'}\n",
    "results = requests.get(api_url, params=params)\n",
    "\n",
    "# Check if the request was successful\n",
    "if results.status_code == 200:\n",
    "    # Convert results into single text string, replacing header row with aliases\n",
    "    rows = results.text.split('\\n')\n",
    "    rows[0] = ','.join(aliases)\n",
    "    data_string = '\\n'.join(rows)\n",
    "    \n",
    "    # Use StringIO to convert the string to a file-like object\n",
    "    data = StringIO(data_string)\n",
    "    \n",
    "    # Convert the data to a pandas DataFrame\n",
    "    df = pd.read_csv(data)\n",
    "    \n",
    "    # Save the DataFrame to a CSV file\n",
    "    df.to_csv(\"exoplanets_data.csv\", index=False)\n",
    "    \n",
    "    print(\"Data has been collected and saved to exoplanets_data.csv\")\n",
    "else:\n",
    "    print(f\"Failed to retrieve data: {results.status_code}\")\n",
    "    print(\"Response content:\", results.content)\n",
    "\n",
    "\n"
   ]
  }
 ],
 "metadata": {
  "kernelspec": {
   "display_name": "Python 3",
   "language": "python",
   "name": "python3"
  },
  "language_info": {
   "codemirror_mode": {
    "name": "ipython",
    "version": 3
   },
   "file_extension": ".py",
   "mimetype": "text/x-python",
   "name": "python",
   "nbconvert_exporter": "python",
   "pygments_lexer": "ipython3",
   "version": "3.11.8"
  }
 },
 "nbformat": 4,
 "nbformat_minor": 2
}
