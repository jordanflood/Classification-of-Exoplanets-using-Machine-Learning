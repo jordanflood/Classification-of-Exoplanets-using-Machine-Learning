{
 "cells": [
  {
   "cell_type": "code",
   "execution_count": null,
   "metadata": {},
   "outputs": [],
   "source": [
    "import pandas as pd\n",
    "\n",
    "# Read the CSV files\n",
    "exoplanets_data = pd.read_csv('exoplanets_data.csv')\n",
    "exoplanets_2018 = pd.read_csv('exoplanets_2018.csv')\n",
    "\n",
    "# Display the first few rows of each DataFrame to inspect their structure\n",
    "print(exoplanets_data.head())\n",
    "print(exoplanets_2018.head())\n"
   ]
  }
 ],
 "metadata": {
  "language_info": {
   "name": "python"
  }
 },
 "nbformat": 4,
 "nbformat_minor": 2
}
